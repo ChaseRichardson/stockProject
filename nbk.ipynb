{
 "cells": [
  {
   "cell_type": "code",
   "execution_count": 8,
   "id": "3552e15e",
   "metadata": {},
   "outputs": [],
   "source": [
    "import pandas as pd\n",
    "import numpy as np\n",
    "import glob\n",
    "import matplotlib.pyplot as plt\n",
    "import seaborn as sns\n",
    "import random as rand"
   ]
  },
  {
   "cell_type": "code",
   "execution_count": 9,
   "id": "240da840",
   "metadata": {},
   "outputs": [
    {
     "data": {
      "text/html": [
       "<div>\n",
       "<style scoped>\n",
       "    .dataframe tbody tr th:only-of-type {\n",
       "        vertical-align: middle;\n",
       "    }\n",
       "\n",
       "    .dataframe tbody tr th {\n",
       "        vertical-align: top;\n",
       "    }\n",
       "\n",
       "    .dataframe thead th {\n",
       "        text-align: right;\n",
       "    }\n",
       "</style>\n",
       "<table border=\"1\" class=\"dataframe\">\n",
       "  <thead>\n",
       "    <tr style=\"text-align: right;\">\n",
       "      <th></th>\n",
       "      <th>date</th>\n",
       "      <th>open</th>\n",
       "      <th>high</th>\n",
       "      <th>low</th>\n",
       "      <th>close</th>\n",
       "      <th>volume</th>\n",
       "      <th>Name</th>\n",
       "    </tr>\n",
       "  </thead>\n",
       "  <tbody>\n",
       "    <tr>\n",
       "      <th>0</th>\n",
       "      <td>2013-02-08</td>\n",
       "      <td>49.83</td>\n",
       "      <td>50.95</td>\n",
       "      <td>49.495</td>\n",
       "      <td>50.60</td>\n",
       "      <td>3844057</td>\n",
       "      <td>AET</td>\n",
       "    </tr>\n",
       "    <tr>\n",
       "      <th>1</th>\n",
       "      <td>2013-02-11</td>\n",
       "      <td>50.52</td>\n",
       "      <td>50.65</td>\n",
       "      <td>49.930</td>\n",
       "      <td>50.38</td>\n",
       "      <td>4020642</td>\n",
       "      <td>AET</td>\n",
       "    </tr>\n",
       "    <tr>\n",
       "      <th>2</th>\n",
       "      <td>2013-02-12</td>\n",
       "      <td>50.96</td>\n",
       "      <td>51.10</td>\n",
       "      <td>49.990</td>\n",
       "      <td>50.15</td>\n",
       "      <td>3122364</td>\n",
       "      <td>AET</td>\n",
       "    </tr>\n",
       "    <tr>\n",
       "      <th>3</th>\n",
       "      <td>2013-02-13</td>\n",
       "      <td>50.26</td>\n",
       "      <td>50.42</td>\n",
       "      <td>49.400</td>\n",
       "      <td>49.51</td>\n",
       "      <td>3604101</td>\n",
       "      <td>AET</td>\n",
       "    </tr>\n",
       "    <tr>\n",
       "      <th>4</th>\n",
       "      <td>2013-02-14</td>\n",
       "      <td>49.33</td>\n",
       "      <td>49.98</td>\n",
       "      <td>48.990</td>\n",
       "      <td>49.56</td>\n",
       "      <td>2194849</td>\n",
       "      <td>AET</td>\n",
       "    </tr>\n",
       "    <tr>\n",
       "      <th>...</th>\n",
       "      <td>...</td>\n",
       "      <td>...</td>\n",
       "      <td>...</td>\n",
       "      <td>...</td>\n",
       "      <td>...</td>\n",
       "      <td>...</td>\n",
       "      <td>...</td>\n",
       "    </tr>\n",
       "    <tr>\n",
       "      <th>1254</th>\n",
       "      <td>2018-02-01</td>\n",
       "      <td>186.52</td>\n",
       "      <td>188.85</td>\n",
       "      <td>186.160</td>\n",
       "      <td>187.39</td>\n",
       "      <td>2596718</td>\n",
       "      <td>AET</td>\n",
       "    </tr>\n",
       "    <tr>\n",
       "      <th>1255</th>\n",
       "      <td>2018-02-02</td>\n",
       "      <td>186.70</td>\n",
       "      <td>187.39</td>\n",
       "      <td>184.570</td>\n",
       "      <td>185.00</td>\n",
       "      <td>2199354</td>\n",
       "      <td>AET</td>\n",
       "    </tr>\n",
       "    <tr>\n",
       "      <th>1256</th>\n",
       "      <td>2018-02-05</td>\n",
       "      <td>184.49</td>\n",
       "      <td>185.39</td>\n",
       "      <td>180.780</td>\n",
       "      <td>180.95</td>\n",
       "      <td>2996979</td>\n",
       "      <td>AET</td>\n",
       "    </tr>\n",
       "    <tr>\n",
       "      <th>1257</th>\n",
       "      <td>2018-02-06</td>\n",
       "      <td>179.36</td>\n",
       "      <td>183.51</td>\n",
       "      <td>178.800</td>\n",
       "      <td>182.01</td>\n",
       "      <td>3450429</td>\n",
       "      <td>AET</td>\n",
       "    </tr>\n",
       "    <tr>\n",
       "      <th>1258</th>\n",
       "      <td>2018-02-07</td>\n",
       "      <td>181.49</td>\n",
       "      <td>184.12</td>\n",
       "      <td>181.390</td>\n",
       "      <td>181.49</td>\n",
       "      <td>2123860</td>\n",
       "      <td>AET</td>\n",
       "    </tr>\n",
       "  </tbody>\n",
       "</table>\n",
       "<p>1259 rows × 7 columns</p>\n",
       "</div>"
      ],
      "text/plain": [
       "            date    open    high      low   close   volume Name\n",
       "0     2013-02-08   49.83   50.95   49.495   50.60  3844057  AET\n",
       "1     2013-02-11   50.52   50.65   49.930   50.38  4020642  AET\n",
       "2     2013-02-12   50.96   51.10   49.990   50.15  3122364  AET\n",
       "3     2013-02-13   50.26   50.42   49.400   49.51  3604101  AET\n",
       "4     2013-02-14   49.33   49.98   48.990   49.56  2194849  AET\n",
       "...          ...     ...     ...      ...     ...      ...  ...\n",
       "1254  2018-02-01  186.52  188.85  186.160  187.39  2596718  AET\n",
       "1255  2018-02-02  186.70  187.39  184.570  185.00  2199354  AET\n",
       "1256  2018-02-05  184.49  185.39  180.780  180.95  2996979  AET\n",
       "1257  2018-02-06  179.36  183.51  178.800  182.01  3450429  AET\n",
       "1258  2018-02-07  181.49  184.12  181.390  181.49  2123860  AET\n",
       "\n",
       "[1259 rows x 7 columns]"
      ]
     },
     "execution_count": 9,
     "metadata": {},
     "output_type": "execute_result"
    }
   ],
   "source": [
    "AET = pd.read_csv(\"/home/chase_r/projects/stockTester/stockData/AET_data.csv\")\n",
    "AET"
   ]
  },
  {
   "cell_type": "code",
   "execution_count": 10,
   "id": "ed103d0b",
   "metadata": {},
   "outputs": [],
   "source": [
    "tickerList = []\n",
    "tickerData = {}\n",
    "\n",
    "# Gets all the csv files in stockData\n",
    "files = glob.glob(\"/home/chase_r/projects/stockTester/stockData/*.csv\")\n",
    "\n",
    "# Loops through and stores tickers into dataframe, and reads each file\n",
    "for file in files:\n",
    "    # Storing ticker name in tickerList\n",
    "    ticker = file.split(\"/\")[-1].split(\"_\")[0]\n",
    "    tickerList.append(ticker)\n",
    "\n",
    "    # Reading the csv file into a dataframe and storing it in tickerData\n",
    "    df = pd.read_csv(file)\n",
    "    tickerData[ticker] = df\n",
    "\n",
    "#"
   ]
  },
  {
   "cell_type": "code",
   "execution_count": 11,
   "id": "4b5ad0f5",
   "metadata": {},
   "outputs": [],
   "source": [
    "# --- Random Fun Test code ---\n",
    "stockNum = rand.randint(0, 504)\n",
    "randomStock = tickerList[stockNum]"
   ]
  },
  {
   "cell_type": "code",
   "execution_count": 12,
   "id": "6cc2e52c",
   "metadata": {},
   "outputs": [
    {
     "data": {
      "image/png": "[encoded data removed]",
      "text/plain": [
       "<Figure size 1000x500 with 1 Axes>"
      ]
     },
     "metadata": {},
     "output_type": "display_data"
    }
   ],
   "source": [
    "# Stock plotting\n",
    "Graphcolor = 'red'\n",
    "\n",
    "if tickerData[randomStock]['open'].iloc[0] < tickerData[randomStock]['open'].iloc[-1]:\n",
    "    Graphcolor = 'green'\n",
    "\n",
    "\n",
    "plt.figure(figsize=(10, 5))\n",
    "plt.plot(tickerData[randomStock][\"date\"], tickerData[randomStock][\"close\"], label=randomStock, color = Graphcolor)\n",
    "plt.xlabel(\"Date\")\n",
    "plt.ylabel(\"Close Price ($)\")\n",
    "plt.title(f\"{randomStock} Stock Price Over Time\")\n",
    "plt.legend()\n",
    "plt.grid(True)\n",
    "plt.show()"
   ]
  },
  {
   "cell_type": "code",
   "execution_count": 13,
   "id": "b5e94422",
   "metadata": {},
   "outputs": [],
   "source": [
    "### ADD MORE CODE HERE FOR ANALYSIS OR TESTING"
   ]
  },
  {
   "cell_type": "markdown",
   "id": "ec5fffe6",
   "metadata": {},
   "source": [
    "Strategy #1 -- Buying stocks post crash\n",
    "\n",
    "---\n"
   ]
  },
  {
   "cell_type": "code",
   "execution_count": null,
   "id": "6c9b3bba",
   "metadata": {},
   "outputs": [
    {
     "name": "stdout",
     "output_type": "stream",
     "text": [
      "Number of stocks that crashed over 125900% in 30 days: 80\n"
     ]
    }
   ],
   "source": [
    "# number of stocks that crashed over x% in a given time period O(N * M)\n",
    "x = 0.2\n",
    "crashLength = 30\n",
    "crashCounter = {}\n",
    "\n",
    "for ticker in tickerList:\n",
    "    df = tickerData[ticker]\n",
    "    \n",
    "    # 2 pointer approach\n",
    "    x = y = 0\n",
    "\n",
    "    while x < len(df):\n",
    "        if df.iloc[x]['open'] < (df.iloc[y]['open'] * 1 - crashLength):\n",
    "            if ticker not in crashCounter:\n",
    "                crashCounter[ticker] = 0\n",
    "            crashCounter[ticker] += 1\n",
    "\n",
    "        if x - y > crashLength:\n",
    "            y += 1\n",
    "        else:\n",
    "            if x + 1 > len(df):\n",
    "                break\n",
    "            x += 1\n",
    "\n",
    "# Lists for Crashed Stocks:\n",
    "thrityPercentCrashed = []\n",
    "twentyPercentCrashed = []\n",
    "fourtyPercentCrashed = []            \n",
    "\n",
    "print(f\"Number of stocks that crashed over {x*100}% in {crashLength} days: {len(crashCounter)}\")\n",
    "        "
   ]
  },
  {
   "cell_type": "code",
   "execution_count": 17,
   "id": "d9effb39",
   "metadata": {},
   "outputs": [
    {
     "name": "stdout",
     "output_type": "stream",
     "text": [
      "['BA', 'CELG', 'XEC', 'GWW', 'EQIX', 'ESS', 'URI', 'GOOGL', 'TDG', 'AMZN', 'FDX', 'CMG', 'ADS', 'NI', 'ZBH', 'PCLN', 'CXO', 'LYB', 'TRIP', 'BAX', 'HUM', 'MTD', 'DISCK', 'EBAY', 'PSA', 'AAPL', 'AVGO', 'CHTR', 'INCY', 'SHW', 'ANDV', 'MCK', 'NFLX', 'ORLY', 'GOOG', 'WHR', 'ULTA', 'REGN', 'FFIV', 'EXPE', 'AZO', 'AMG', 'PRGO', 'AGN', 'IBM', 'SRCL', 'AAP', 'YUM', 'SPG', 'RL', 'QRVO', 'ALGN', 'WYNN', 'ILMN', 'PXD', 'DISCA', 'SNA', 'SIG', 'SLG', 'BLK', 'AMGN', 'VRTX', 'APA', 'AMP', 'EFX', 'RE', 'AYI', 'MLM', 'SWKS', 'BIIB', 'ALXN', 'CI', 'EW', 'COST', 'MHK', 'GS', 'COO', 'ISRG', 'RCL', 'ROP']\n"
     ]
    }
   ],
   "source": [
    "crashedStocks = [ticker for ticker, count in crashCounter.items() if count > 0]\n",
    "print(crashedStocks)"
   ]
  }
 ],
 "metadata": {
  "kernelspec": {
   "display_name": ".venv",
   "language": "python",
   "name": "python3"
  },
  "language_info": {
   "codemirror_mode": {
    "name": "ipython",
    "version": 3
   },
   "file_extension": ".py",
   "mimetype": "text/x-python",
   "name": "python",
   "nbconvert_exporter": "python",
   "pygments_lexer": "ipython3",
   "version": "3.10.12"
  }
 },
 "nbformat": 4,
 "nbformat_minor": 5
}
